{
 "cells": [
  {
   "cell_type": "markdown",
   "metadata": {},
   "source": [
    "Last Change: 2020/02/06 14:50:09.\n",
    "\n",
    "auther: tsuyo-pon\n",
    "\n",
    "# VBGMM を使ってみよう!\n",
    "やっぱり機械学習は，練習しないと覚えられません．\n",
    "\n",
    "特に教師なし機械学習でクラスタリングなんて，自分で色々試行錯誤して算出しないとダメですね．\n",
    "\n",
    "なので，まず機械学習のVBGMMなる奴を行います．\n",
    "\n",
    "![sklearn_cheat_sheet](../image/sklearn_cheat_sheet.png \"scikitleanが出している写真\")\n",
    "(https://scikit-learn.org/stable/tutorial/machine_learning_map/ より抜粋)\n",
    "\n",
    "VBGMM は左下のエリアにいますね．\n",
    "\n",
    "## Contents\n",
    "1. データの準備\n",
    "1. 分布の確認\n",
    "1. k-means の実施・確認\n",
    "1. VBGMM の実施・確認\n",
    "1. 各データのクラスタを確認\n",
    "1. 各クラスタの重みを確認\n",
    "1. 各クラスタの重みを再確認 (おまけ)\n",
    "\n",
    "## データの準備\n",
    "[]({{{)\n",
    "まずはデータを準備しましょう．\n",
    "\n",
    "といってもいきなり複雑なデータを使ってしまうと，何がなんだかわかんなくなってしまいます．\n",
    "\n",
    "そこで，Numpy で作成した単純なデータを使用しましょう．"
   ]
  },
  {
   "cell_type": "code",
   "execution_count": 1,
   "metadata": {},
   "outputs": [],
   "source": [
    "# 必要なライブラリをインポート\n",
    "import numpy as np\n",
    "from numpy.random import rand"
   ]
  },
  {
   "cell_type": "code",
   "execution_count": 2,
   "metadata": {},
   "outputs": [],
   "source": [
    "# Numpy で乱数データを作成\n",
    "vec_list = []\n",
    "# for base in [[10, 10]]:\n",
    "for base in [[10, 10], [0, 0]]:\n",
    "    for _ in range(100):\n",
    "        temp = [base[0] + rand(), base[1] + rand()]\n",
    "        vec_list.append(temp)\n",
    "nvec = np.array(vec_list)"
   ]
  },
  {
   "cell_type": "markdown",
   "metadata": {},
   "source": [
    "データを生成したので，中身を見てみましょう．\n",
    "ここは軽く確認するだけですので，最初と最後の 5 個を見ます．"
   ]
  },
  {
   "cell_type": "code",
   "execution_count": 3,
   "metadata": {},
   "outputs": [
    {
     "name": "stdout",
     "output_type": "stream",
     "text": [
      "最初の 5 個:\n",
      " [[10.15035506 10.17939655]\n",
      " [10.8130971  10.81132425]\n",
      " [10.96846017 10.19124972]\n",
      " [10.67784734 10.10795736]\n",
      " [10.12647028 10.8618151 ]]\n",
      "最後の 5 個:\n",
      " [[0.76089164 0.97108752]\n",
      " [0.13312931 0.41743604]\n",
      " [0.03279799 0.35606944]\n",
      " [0.12773034 0.75218187]\n",
      " [0.76269666 0.18835898]]\n"
     ]
    }
   ],
   "source": [
    "# 生成データの確認\n",
    "print(\"最初の 5 個:\\n {}\".format(nvec[:5]))\n",
    "print(\"最後の 5 個:\\n {}\".format(nvec[-5:]))"
   ]
  },
  {
   "cell_type": "markdown",
   "metadata": {},
   "source": [
    "序盤がだいたい 10-11 くらいで，終盤が 0-1 くらいですね．\n",
    "\n",
    "これでひとまず分類に必要なデータを用意できました．\n",
    "[](}}})\n",
    "\n",
    "## 分布の確認\n",
    "[]({{{)\n",
    "分析するデータを手に入れたから，早速機械学習を...\n",
    "\n",
    "<br/>\n",
    "\n",
    "<div style=\"text-align: center;\">\n",
    "<h3>ちょっと待て!!!</h3>\n",
    "</div>\n",
    "\n",
    "<br/>\n",
    "\n",
    "データを手に入れたら解析を始める前に，**まず**分布を確認しよう (これは解析を始める前の癖にすることを強く勧めます)．\n",
    "\n",
    "分布を確認して，明らかな外れ値があったり，あるいは自身の予想と全く異なる分布であったら，検討する必要があります\n",
    "(今回は Numpy で生成したデータなので分布は分かっていますが，こういうのは常に確認するくらいの気持ちでいいです)．"
   ]
  },
  {
   "cell_type": "code",
   "execution_count": 4,
   "metadata": {},
   "outputs": [],
   "source": [
    "# 必要なライブラリをインポート\n",
    "import matplotlib.pyplot as plt"
   ]
  },
  {
   "cell_type": "code",
   "execution_count": 5,
   "metadata": {},
   "outputs": [
    {
     "data": {
      "image/png": "[encoded data removed]",
      "text/plain": [
       "<Figure size 432x288 with 1 Axes>"
      ]
     },
     "metadata": {
      "needs_background": "light"
     },
     "output_type": "display_data"
    }
   ],
   "source": [
    "# データの分布を確認\n",
    "x = [nvec[i][0] for i in range(len(nvec))]\n",
    "y = [nvec[i][1] for i in range(len(nvec))]\n",
    "\n",
    "plt.scatter(x, y, s=5)\n",
    "plt.show()"
   ]
  },
  {
   "cell_type": "markdown",
   "metadata": {},
   "source": [
    "データの準備の段階でだいたい予想が付いていたかもしれませんが，(10, 10) 付近と (0, 0) 付近に分布しています．\n",
    "\n",
    "ひとまず，これでデータの分布が確認できました．\n",
    "[](}}})\n",
    "\n",
    "## k-means の実施・確認\n",
    "[]({{{)\n",
    "分布も確認したので，いよいよデータを分類していきましょう．\n",
    "\n",
    "まずは教師なし分類手法で有名な k-means 法を行います．\n",
    "k-means 法は，あらかじめクラスタ数を定める必要があります．\n",
    "\n",
    "そのため，クラスタ数に関わる仮説や教師データが存在しない場合，クラスタ数を決定するのは大変です．\n",
    "クラスタ数ごとにモデルの良さを評価し，色々なクラスタ数でモデルの良さを確認して，最も妥当なクラスタ数を探索する必要があります (それをやってくれる x-means 法なるものがあるらしですが，今回は割愛)．\n",
    "\n",
    "今回はあらかじめ教師情報があるので，クラスタ数は \"2\" として学習を行います (n_clusters=2 の部分で指定しています)．"
   ]
  },
  {
   "cell_type": "code",
   "execution_count": 6,
   "metadata": {},
   "outputs": [],
   "source": [
    "# 必要なライブラリをインポート\n",
    "from sklearn import cluster"
   ]
  },
  {
   "cell_type": "code",
   "execution_count": 7,
   "metadata": {},
   "outputs": [],
   "source": [
    "# k-means 法で学習\n",
    "km = cluster.KMeans(n_clusters=2)\n",
    "z_km = km.fit(nvec)"
   ]
  },
  {
   "cell_type": "markdown",
   "metadata": {},
   "source": [
    "k-means 法で学習したので，結果を確認しましょう．"
   ]
  },
  {
   "cell_type": "code",
   "execution_count": 8,
   "metadata": {},
   "outputs": [
    {
     "data": {
      "image/png": "[encoded data removed]",
      "text/plain": [
       "<Figure size 432x288 with 1 Axes>"
      ]
     },
     "metadata": {
      "needs_background": "light"
     },
     "output_type": "display_data"
    }
   ],
   "source": [
    "# 散布図を作成\n",
    "plt.scatter(x, y, c=z_km.labels_, s=5)\n",
    "\n",
    "# 重心を★マークでをプロット\n",
    "plt.scatter(\n",
    "    z_km.cluster_centers_[:, 0],\n",
    "    z_km.cluster_centers_[:, 1],\n",
    "    s=250,\n",
    "    marker=\"*\",\n",
    "    c=\"red\",\n",
    ")\n",
    "plt.title(\"KMeans\")\n",
    "plt.show()"
   ]
  },
  {
   "cell_type": "markdown",
   "metadata": {},
   "source": [
    "分類ごとに色分けをしましたが，右上と左上で二色に別れてそれぞれの中心ぽい場所に★マークも出ていると思います．\n",
    "\n",
    "まぁ大方予想通りというか，特に違和感もない結果になったと思います (生成データなのでそりゃそうですが)．\n",
    "[](}}})\n",
    "\n",
    "## VBGMM の実施・確認\n",
    "[]({{{)\n",
    "k-means 法での分類を確認しました．\n",
    "今度は VBGMM で分類していきましょう．\n",
    "\n",
    "k-means 法ではクラスタ数を指定しましたが，VBGMM はデータを自動でクラスタに分けるためクラスタ数を指定しません．\n",
    "\n",
    "その代わりというわけではありませんが，クラスタ数の上限値を定める必要があります (n_components=n_components の部分で指定しています)．\n",
    "\n",
    "今回は，上限値を 10 と設定して学習を行いました．"
   ]
  },
  {
   "cell_type": "code",
   "execution_count": 9,
   "metadata": {},
   "outputs": [],
   "source": [
    "# 必要なライブラリをインポート\n",
    "from sklearn import mixture"
   ]
  },
  {
   "cell_type": "code",
   "execution_count": 10,
   "metadata": {},
   "outputs": [],
   "source": [
    "# VBGMM で学習\n",
    "n_components=10\n",
    "vbgmm = mixture.BayesianGaussianMixture(n_components=n_components, random_state=3)\n",
    "vbgmm = vbgmm.fit(nvec)\n",
    "labels = vbgmm.predict(nvec)"
   ]
  },
  {
   "cell_type": "markdown",
   "metadata": {},
   "source": [
    "VBGMM で学習したので，結果を確認しましょう．"
   ]
  },
  {
   "cell_type": "code",
   "execution_count": 11,
   "metadata": {},
   "outputs": [
    {
     "data": {
      "image/png": "[encoded data removed]",
      "text/plain": [
       "<Figure size 432x288 with 1 Axes>"
      ]
     },
     "metadata": {
      "needs_background": "light"
     },
     "output_type": "display_data"
    }
   ],
   "source": [
    "# 散布図を作成\n",
    "plt.scatter(x, y, c=labels, s=5)\n",
    "plt.title(\"VBGMM\")\n",
    "plt.show()"
   ]
  },
  {
   "cell_type": "markdown",
   "metadata": {},
   "source": [
    "今回も分類ごとに色分けしました．\n",
    "特にクラスタ数は指定しませんでしたが，分布は k-means 法と同様に右上と左下で綺麗に二色に分かれたと思います (分かれていてほしい)．\n",
    "\n",
    "※ random_state=3 について．\n",
    "\n",
    "今回は初期値を固定するためにあえて整数値を指定しましたが，本来は固定しません．\n",
    "そのため，デフォルトでは random_state=None となっています．\n",
    "\n",
    "[](}}})\n",
    "\n",
    "## 各データのクラスタを確認\n",
    "[]({{{)\n",
    "VBGMM でクラスタ数を指定せずとも分類できることが確認できました．\n",
    "\n",
    "分類できることが分かったので，次はどのデータがどのクラスタか調べましょう．\n",
    "最初と最後の 5 個を確認します (データは 0 番目から 199 番目で 200 個となっています)．"
   ]
  },
  {
   "cell_type": "code",
   "execution_count": 12,
   "metadata": {},
   "outputs": [
    {
     "name": "stdout",
     "output_type": "stream",
     "text": [
      "0 番目 | クラスタ: 4, データ: [10.15035506 10.17939655]\n",
      "1 番目 | クラスタ: 4, データ: [10.8130971  10.81132425]\n",
      "2 番目 | クラスタ: 4, データ: [10.96846017 10.19124972]\n",
      "3 番目 | クラスタ: 4, データ: [10.67784734 10.10795736]\n",
      "4 番目 | クラスタ: 4, データ: [10.12647028 10.8618151 ]\n",
      "195 番目 | クラスタ: 2, データ: [0.76089164 0.97108752]\n",
      "196 番目 | クラスタ: 2, データ: [0.13312931 0.41743604]\n",
      "197 番目 | クラスタ: 2, データ: [0.03279799 0.35606944]\n",
      "198 番目 | クラスタ: 2, データ: [0.12773034 0.75218187]\n",
      "199 番目 | クラスタ: 2, データ: [0.76269666 0.18835898]\n"
     ]
    }
   ],
   "source": [
    "# クラスタの確認\n",
    "for i in range(len(labels)):\n",
    "    if i < 5:\n",
    "        print(\"{} 番目 | クラスタ: {}, データ: {}\".format(i, labels[i], nvec[i]))\n",
    "    elif i > 194:\n",
    "        print(\"{} 番目 | クラスタ: {}, データ: {}\".format(i, labels[i], nvec[i]))"
   ]
  },
  {
   "cell_type": "markdown",
   "metadata": {},
   "source": [
    "ざっくりと，0-1のデータが一つのクラスタで，10-11のデータが一つのクラスタになっていると思います．\n",
    "\n",
    "これで，各データがどのクラスタにいるのか分かりました．\n",
    "[](}}})\n",
    "\n",
    "## 各クラスタの重みを確認\n",
    "[]({{{)\n",
    "各データがどのクラスタにいるのかは分かったと思いますが，全体としてどのような傾向になっているのかは，まだつかめていません．\n",
    "\n",
    "そこで，各クラスタにどの程度のデータが存在しているのか，確認をしましょう．"
   ]
  },
  {
   "cell_type": "code",
   "execution_count": 13,
   "metadata": {},
   "outputs": [
    {
     "data": {
      "image/png": "[encoded data removed]",
      "text/plain": [
       "<Figure size 432x288 with 1 Axes>"
      ]
     },
     "metadata": {
      "needs_background": "light"
     },
     "output_type": "display_data"
    }
   ],
   "source": [
    "# VBGMM でクラスタ数を確認\n",
    "x_tick = np.array(range(n_components))\n",
    "cluster_weights = [np.count_nonzero(labels == i) / len(labels)  for i in range(n_components)]\n",
    "plt.bar(x_tick, cluster_weights, width=0.7, tick_label=x_tick)\n",
    "plt.title(\"VBGMM cluster number\")\n",
    "plt.xlabel(\"Cluster number\")\n",
    "plt.ylabel(\"Percentage\")\n",
    "plt.show()"
   ]
  },
  {
   "cell_type": "markdown",
   "metadata": {},
   "source": [
    "クラスタを確認した際に出てきた二つのクラスタが，大きく飛び出ていると思います．\n",
    "\n",
    "棒グラフを見る限りでは，二つのクラスタがそれぞれ全データの約 50% を占めているので，クラスタ数は 2 と判断できるでしょう．\n",
    "[](}}})\n",
    "\n",
    "## 各クラスタの重みを再確認 (おまけ)\n",
    "[]({{{)\n",
    "上の結果でクラスタ数は 2 と分かったと思います．\n",
    "\n",
    "ただ私はその昔 (二ヶ月前)，クラスタの番号が，それぞれ対応しているクラスタ数の確率を示していると勘違いしていました．\n",
    "\n",
    "しかし実際は，クラスタの番号に意味はなく，(大きく) 飛び出た本数がクラスタ数となります．\n",
    "\n",
    "そのため，下の二つを確かめるために，改めて VBGMM で学習を行います．\n",
    "- クラスタの番号に意味はない．\n",
    "- (大きく) 飛び出た本数がクラスタ数である．"
   ]
  },
  {
   "cell_type": "code",
   "execution_count": 14,
   "metadata": {},
   "outputs": [
    {
     "data": {
      "image/png": "[encoded data removed]",
      "text/plain": [
       "<Figure size 432x288 with 1 Axes>"
      ]
     },
     "metadata": {
      "needs_background": "light"
     },
     "output_type": "display_data"
    },
    {
     "data": {
      "image/png": "[encoded data removed]",
      "text/plain": [
       "<Figure size 432x288 with 1 Axes>"
      ]
     },
     "metadata": {
      "needs_background": "light"
     },
     "output_type": "display_data"
    }
   ],
   "source": [
    "# VBGMM でクラスタ数を確認 (先ほどのグラフを再掲)\n",
    "plt.subplot(2, 1, 1)\n",
    "x_tick = np.array(range(n_components))\n",
    "cluster_weights = [np.count_nonzero(labels == i) / len(labels)  for i in range(n_components)]\n",
    "plt.bar(x_tick, cluster_weights, width=0.7, tick_label=x_tick)\n",
    "plt.title(\"VBGMM cluster number first\")\n",
    "plt.xlabel(\"Cluster number\")\n",
    "plt.ylabel(\"Percentage\")\n",
    "plt.show()\n",
    "\n",
    "# VBGMM で再学習\n",
    "n_components=10\n",
    "vbgmm = mixture.BayesianGaussianMixture(n_components=n_components, random_state=8)\n",
    "vbgmm = vbgmm.fit(nvec)\n",
    "labels = vbgmm.predict(nvec)\n",
    "\n",
    "# VBGMM でクラスタ数を再確認\n",
    "plt.subplot(2, 1, 2)\n",
    "x_tick = np.array(range(n_components))\n",
    "cluster_weights = [np.count_nonzero(labels == i) / len(labels)  for i in range(n_components)]\n",
    "plt.bar(x_tick, cluster_weights, width=0.7, tick_label=x_tick)\n",
    "plt.title(\"VBGMM cluster number second\")\n",
    "plt.xlabel(\"Cluster number\")\n",
    "plt.ylabel(\"Percentage\")\n",
    "plt.show()"
   ]
  },
  {
   "cell_type": "markdown",
   "metadata": {},
   "source": [
    "上のグラフが，最初に VBGMM で確認したクラスタ数です．\n",
    "下のグラフが，今回算出した VBGMM でのクラスタ数です．\n",
    "\n",
    "おそらく今回も最初と同様に，二つのクラスタが，大きく飛び出ていると思います．\n",
    "しかし最初とは，違うクラスタが大きく飛び出ているのではないかと思います．\n",
    "\n",
    "分類に使用したデータはもちろん同じなので，この二つのグラフはほぼ同じ意味を持っているはずです．\n",
    "\n",
    "二つのグラフがほぼ同じ意味を持っていると考えると，おそらくクラスタの番号に意味はなく，(大きく) 飛び出た本数がクラスタ数なのではないかと考えられるでしょう．\n",
    "[](}}})\n",
    "\n",
    "[home](../)"
   ]
  }
 ],
 "metadata": {
  "kernelspec": {
   "display_name": "Python 3",
   "language": "python",
   "name": "python3"
  },
  "language_info": {
   "codemirror_mode": {
    "name": "ipython",
    "version": 3
   },
   "file_extension": ".py",
   "mimetype": "text/x-python",
   "name": "python",
   "nbconvert_exporter": "python",
   "pygments_lexer": "ipython3",
   "version": "3.7.3"
  }
 },
 "nbformat": 4,
 "nbformat_minor": 2
}
